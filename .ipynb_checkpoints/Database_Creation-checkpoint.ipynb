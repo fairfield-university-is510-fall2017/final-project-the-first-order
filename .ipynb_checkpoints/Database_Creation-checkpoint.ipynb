{
 "cells": [
  {
   "cell_type": "markdown",
   "metadata": {},
   "source": [
    "# Creating our Database"
   ]
  },
  {
   "cell_type": "markdown",
   "metadata": {},
   "source": [
    "Importing our necessary packages and loading SQL"
   ]
  },
  {
   "cell_type": "code",
   "execution_count": 1,
   "metadata": {
    "collapsed": true
   },
   "outputs": [],
   "source": [
    "import sqlite3\n",
    "import pandas as pd\n",
    "import sqlalchemy \n",
    "%load_ext sql"
   ]
  },
  {
   "cell_type": "markdown",
   "metadata": {},
   "source": [
    "Creating and loading our Database"
   ]
  },
  {
   "cell_type": "code",
   "execution_count": 2,
   "metadata": {},
   "outputs": [
    {
     "data": {
      "text/plain": [
       "'Connected: None@football.db'"
      ]
     },
     "execution_count": 2,
     "metadata": {},
     "output_type": "execute_result"
    }
   ],
   "source": [
    "%sql sqlite:///football.db"
   ]
  },
  {
   "cell_type": "markdown",
   "metadata": {},
   "source": [
    "Dropping tables from the database so we can re run code"
   ]
  },
  {
   "cell_type": "code",
   "execution_count": 3,
   "metadata": {},
   "outputs": [
    {
     "name": "stdout",
     "output_type": "stream",
     "text": [
      "Done.\n",
      "Done.\n",
      "Done.\n",
      "Done.\n",
      "Done.\n"
     ]
    },
    {
     "data": {
      "text/plain": [
       "[]"
      ]
     },
     "execution_count": 3,
     "metadata": {},
     "output_type": "execute_result"
    }
   ],
   "source": [
    "%%sql\n",
    "drop table Teams;\n",
    "drop table Quarterbacks;\n",
    "drop table Locations;\n",
    "drop table Games;\n",
    "drop table GameStatistics;"
   ]
  },
  {
   "cell_type": "raw",
   "metadata": {},
   "source": [
    "Creating the first table for team data. Contains surrogate key, team name, conference and divison"
   ]
  },
  {
   "cell_type": "code",
   "execution_count": 4,
   "metadata": {},
   "outputs": [
    {
     "name": "stdout",
     "output_type": "stream",
     "text": [
      "Done.\n"
     ]
    },
    {
     "data": {
      "text/plain": [
       "[]"
      ]
     },
     "execution_count": 4,
     "metadata": {},
     "output_type": "execute_result"
    }
   ],
   "source": [
    "%%sql \n",
    "\n",
    "CREATE TABLE Teams (\n",
    "    TID INTEGER PRIMARY KEY,\n",
    "    TeamName TEXT default NULL,\n",
    "    Conference TEXT default NULL,\n",
    "    Division TEXT default NULL\n",
    ");"
   ]
  },
  {
   "cell_type": "markdown",
   "metadata": {},
   "source": [
    "Creating new table - QuarterBacks.\n",
    "Consists of information regarding the home team quarterback, such as name and college along with surrogate key \"QBID\" "
   ]
  },
  {
   "cell_type": "code",
   "execution_count": 5,
   "metadata": {},
   "outputs": [
    {
     "name": "stdout",
     "output_type": "stream",
     "text": [
      "Done.\n"
     ]
    },
    {
     "data": {
      "text/plain": [
       "[]"
      ]
     },
     "execution_count": 5,
     "metadata": {},
     "output_type": "execute_result"
    }
   ],
   "source": [
    "%%sql \n",
    "\n",
    "CREATE TABLE QuarterBacks (\n",
    "    QBID INTEGER PRIMARY KEY,\n",
    "    QBName TEXT default NULL,\n",
    "    College TEXT DEFAULT NULL\n",
    "   \n",
    ");"
   ]
  },
  {
   "cell_type": "markdown",
   "metadata": {},
   "source": [
    "Creating a table about location for the games - Locations\n",
    "Contains information about stadium, city, surrogate key SID "
   ]
  },
  {
   "cell_type": "code",
   "execution_count": 6,
   "metadata": {},
   "outputs": [
    {
     "name": "stdout",
     "output_type": "stream",
     "text": [
      "Done.\n"
     ]
    },
    {
     "data": {
      "text/plain": [
       "[]"
      ]
     },
     "execution_count": 6,
     "metadata": {},
     "output_type": "execute_result"
    }
   ],
   "source": [
    "%%sql \n",
    "CREATE TABLE Locations (\n",
    "    SID INTEGER PRIMARY KEY,\n",
    "    Stadium TEXT default NULL,\n",
    "    City TEXT default NULL\n",
    "    \n",
    ");"
   ]
  },
  {
   "cell_type": "markdown",
   "metadata": {},
   "source": [
    "Creating first weak table, Games. Contains the gameID (PK), home team, away team, stadiumID foreign keys and an attendence column"
   ]
  },
  {
   "cell_type": "code",
   "execution_count": 7,
   "metadata": {},
   "outputs": [
    {
     "name": "stdout",
     "output_type": "stream",
     "text": [
      "Done.\n"
     ]
    },
    {
     "data": {
      "text/plain": [
       "[]"
      ]
     },
     "execution_count": 7,
     "metadata": {},
     "output_type": "execute_result"
    }
   ],
   "source": [
    "%%sql \n",
    "CREATE TABLE Games (\n",
    "    GameID INTEGER Primary Key,\n",
    "    HTeamID INTEGER default NULL,\n",
    "    ATeamID INTEGER default NULL,\n",
    "    SID INTEGER default NULL,\n",
    "    Attendence INTEGER default NULL,\n",
    "    FOREIGN KEY (HTeamID) REFERENCES Teams (TID),\n",
    "    FOREIGN KEY (ATeamID) REFERENCES Teams (TID),\n",
    "    FOREIGN KEY (SID) REFERENCES Locations (SID)\n",
    ");"
   ]
  },
  {
   "cell_type": "markdown",
   "metadata": {},
   "source": [
    "Creating final table (secondary weak). Contains FK gameid, teamid and qbID along with stats on the games"
   ]
  },
  {
   "cell_type": "code",
   "execution_count": 8,
   "metadata": {},
   "outputs": [
    {
     "name": "stdout",
     "output_type": "stream",
     "text": [
      "Done.\n"
     ]
    },
    {
     "data": {
      "text/plain": [
       "[]"
      ]
     },
     "execution_count": 8,
     "metadata": {},
     "output_type": "execute_result"
    }
   ],
   "source": [
    "%%sql \n",
    "CREATE TABLE GameStatistics (\n",
    "    GameID INTEGER default NULL,\n",
    "    TeamID INTEGER default NULL,\n",
    "    QBID INTEGER default NULL,\n",
    "    Score INTEGER default NULL,\n",
    "    Total_Yards INTEGER default NULL,\n",
    "    Turn_Overs INTEGER default NULL,\n",
    "    First_Downs INTEGER default NULL,\n",
    "    FOREIGN KEY (GameID) REFERENCES Games (GameID)\n",
    "    FOREIGN KEY (TeamID) REFERENCES Teams (TID),\n",
    "    FOREIGN KEY (QBID) REFERENCES QUARTERBACKS (QBID)\n",
    ");  "
   ]
  },
  {
   "cell_type": "markdown",
   "metadata": {},
   "source": [
    "# Populating our tables\n",
    "We start with the strong entities - Team, QB and Location then weak, Game, then weakest Gamestats"
   ]
  },
  {
   "cell_type": "code",
   "execution_count": 9,
   "metadata": {},
   "outputs": [
    {
     "name": "stdout",
     "output_type": "stream",
     "text": [
      "1 rows affected.\n",
      "1 rows affected.\n",
      "1 rows affected.\n",
      "1 rows affected.\n",
      "1 rows affected.\n",
      "1 rows affected.\n",
      "1 rows affected.\n",
      "1 rows affected.\n",
      "1 rows affected.\n",
      "1 rows affected.\n",
      "1 rows affected.\n",
      "1 rows affected.\n",
      "1 rows affected.\n",
      "1 rows affected.\n",
      "1 rows affected.\n",
      "1 rows affected.\n",
      "1 rows affected.\n",
      "1 rows affected.\n",
      "1 rows affected.\n",
      "1 rows affected.\n",
      "1 rows affected.\n",
      "1 rows affected.\n",
      "1 rows affected.\n",
      "1 rows affected.\n",
      "1 rows affected.\n",
      "1 rows affected.\n",
      "1 rows affected.\n",
      "1 rows affected.\n",
      "1 rows affected.\n",
      "1 rows affected.\n",
      "1 rows affected.\n",
      "1 rows affected.\n"
     ]
    },
    {
     "data": {
      "text/plain": [
       "[]"
      ]
     },
     "execution_count": 9,
     "metadata": {},
     "output_type": "execute_result"
    }
   ],
   "source": [
    "%%sql\n",
    "INSERT INTO Teams (TID, TeamName,  Conference, Division ) VALUES (1, 'Buffalo Bills', 'AFC', 'East');\n",
    "INSERT INTO Teams (TID, TeamName,  Conference, Division ) VALUES (2, 'Miami Dolphins', 'AFC', 'East');\n",
    "INSERT INTO Teams (TID, TeamName,  Conference, Division ) VALUES (3, 'New England Patriots', 'AFC', 'East');\n",
    "INSERT INTO Teams (TID, TeamName,  Conference, Division ) VALUES (4, 'New York Jets', 'AFC', 'East');\n",
    "\n",
    "INSERT INTO Teams (TID, TeamName,  Conference, Division ) VALUES (5, 'Dallas Cowboys', 'NFC', 'East');\n",
    "INSERT INTO Teams (TID, TeamName,  Conference, Division ) VALUES (6, 'New York Giants', 'NFC', 'East');\n",
    "INSERT INTO Teams (TID, TeamName,  Conference, Division ) VALUES (7, 'Philadelphia Eagles', 'NFC', 'East');\n",
    "INSERT INTO Teams (TID, TeamName,  Conference, Division ) VALUES (8, 'Washington Redskins', 'NFC', 'East');\n",
    "\n",
    "INSERT INTO Teams (TID, TeamName,  Conference, Division ) VALUES (9, 'Baltimore Ravens', 'AFC', 'North');\n",
    "INSERT INTO Teams (TID, TeamName,  Conference, Division ) VALUES (10, 'Cincinnati Bengals', 'AFC', 'North');\n",
    "INSERT INTO Teams (TID, TeamName,  Conference, Division ) VALUES (11, 'Cleveland Browns', 'AFC', 'North');\n",
    "INSERT INTO Teams (TID, TeamName,  Conference, Division ) VALUES (12, 'Pittsburgh Steelers', 'AFC', 'North');\n",
    "\n",
    "INSERT INTO Teams (TID, TeamName,  Conference, Division ) VALUES (13, 'Chicago Bears', 'NFC', 'North');\n",
    "INSERT INTO Teams (TID, TeamName,  Conference, Division ) VALUES (14, 'Detroit Lions', 'NFC', 'North');\n",
    "INSERT INTO Teams (TID, TeamName,  Conference, Division ) VALUES (15, 'Green Bay Packers', 'NFC', 'North');\n",
    "INSERT INTO Teams (TID, TeamName,  Conference, Division ) VALUES (16, 'Minnesota Vikings', 'NFC', 'North');\n",
    "\n",
    "INSERT INTO Teams (TID, TeamName,  Conference, Division ) VALUES (17, 'Houston Texas', 'AFC', 'South');\n",
    "INSERT INTO Teams (TID, TeamName,  Conference, Division ) VALUES (18, 'Indianapolis Colts', 'AFC', 'South');\n",
    "INSERT INTO Teams (TID, TeamName,  Conference, Division ) VALUES (19, 'Jacksonville Jaguars', 'AFC', 'South');\n",
    "INSERT INTO Teams (TID, TeamName,  Conference, Division ) VALUES (20, 'Tennessee Titans', 'AFC', 'South');\n",
    "\n",
    "INSERT INTO Teams (TID, TeamName,  Conference, Division ) VALUES (21, 'Atlanta Falcons', 'NFC', 'South');\n",
    "INSERT INTO Teams (TID, TeamName,  Conference, Division ) VALUES (22, 'Carolina Panthers', 'NFC', 'South');\n",
    "INSERT INTO Teams (TID, TeamName,  Conference, Division ) VALUES (23, 'New Orleans Saints', 'NFC', 'South');\n",
    "INSERT INTO Teams (TID, TeamName,  Conference, Division ) VALUES (24, 'Tampa Bay Buccaneers', 'NFC', 'South');\n",
    "\n",
    "INSERT INTO Teams (TID, TeamName,  Conference, Division ) VALUES (25, 'Denver Broncos', 'AFC', 'West');\n",
    "INSERT INTO Teams (TID, TeamName,  Conference, Division ) VALUES (26, 'Kansas City Chiefs', 'AFC', 'West');\n",
    "INSERT INTO Teams (TID, TeamName,  Conference, Division ) VALUES (27, 'Los Angeles Chargers', 'AFC', 'West');\n",
    "INSERT INTO Teams (TID, TeamName,  Conference, Division ) VALUES (28, 'Oakland Raiders', 'AFC', 'West');\n",
    "\n",
    "INSERT INTO Teams (TID, TeamName,  Conference, Division ) VALUES (29, 'Arizona Cardinals', 'NFC', 'West');\n",
    "INSERT INTO Teams (TID, TeamName,  Conference, Division ) VALUES (30, 'Los Angeles Rams', 'NFC', 'West');\n",
    "INSERT INTO Teams (TID, TeamName,  Conference, Division ) VALUES (31, 'San Francisco 49ers', 'NFC', 'West');\n",
    "INSERT INTO Teams (TID, TeamName,  Conference, Division ) VALUES (32, 'Seattle Seahawks', 'NFC', 'West');"
   ]
  },
  {
   "cell_type": "code",
   "execution_count": 10,
   "metadata": {},
   "outputs": [
    {
     "name": "stdout",
     "output_type": "stream",
     "text": [
      "1 rows affected.\n",
      "1 rows affected.\n",
      "1 rows affected.\n",
      "1 rows affected.\n",
      "1 rows affected.\n",
      "1 rows affected.\n",
      "1 rows affected.\n",
      "1 rows affected.\n",
      "1 rows affected.\n",
      "1 rows affected.\n",
      "1 rows affected.\n",
      "1 rows affected.\n",
      "1 rows affected.\n",
      "1 rows affected.\n",
      "1 rows affected.\n",
      "1 rows affected.\n",
      "1 rows affected.\n",
      "1 rows affected.\n",
      "1 rows affected.\n",
      "1 rows affected.\n",
      "1 rows affected.\n",
      "1 rows affected.\n",
      "1 rows affected.\n",
      "1 rows affected.\n",
      "1 rows affected.\n",
      "1 rows affected.\n",
      "1 rows affected.\n",
      "1 rows affected.\n",
      "1 rows affected.\n",
      "1 rows affected.\n",
      "1 rows affected.\n",
      "1 rows affected.\n",
      "1 rows affected.\n",
      "1 rows affected.\n",
      "1 rows affected.\n",
      "1 rows affected.\n",
      "1 rows affected.\n",
      "1 rows affected.\n"
     ]
    },
    {
     "data": {
      "text/plain": [
       "[]"
      ]
     },
     "execution_count": 10,
     "metadata": {},
     "output_type": "execute_result"
    }
   ],
   "source": [
    "%%sql\n",
    "INSERT INTO Locations (SID, Stadium, City) VALUES (1, 'University of Phoenix Stadium', 'Glendale');\n",
    "INSERT INTO Locations (SID, Stadium, City) VALUES (2, 'Georgia Dome', 'Atlanta');\n",
    "INSERT INTO Locations (SID, Stadium, City) VALUES (3, 'M&T Bank Stadium', 'Baltimore');\n",
    "INSERT INTO Locations (SID, Stadium, City) VALUES (4, 'New Era Field', 'Buffalo');\n",
    "INSERT INTO Locations (SID, Stadium, City) VALUES (5, 'Bank of America Stadium', 'Charlotte');\n",
    "INSERT INTO Locations (SID, Stadium, City) VALUES (6, 'Soldier Field', 'Chicago');\n",
    "INSERT INTO Locations (SID, Stadium, City) VALUES (7, 'FirstEnergy Stadium', 'Cleveland');\n",
    "INSERT INTO Locations (SID, Stadium, City) VALUES (8, 'AT&T Stadium', 'Arlington');\n",
    "INSERT INTO Locations (SID, Stadium, City) VALUES (9, 'Sports Authority Field at Mile High', 'Denver');\n",
    "INSERT INTO Locations (SID, Stadium, City) VALUES (10, 'Ford Field', 'Denver');\n",
    "INSERT INTO Locations (SID, Stadium, City) VALUES (11, 'NRG Stadium', 'Houston');\n",
    "INSERT INTO Locations (SID, Stadium, City) VALUES (12, 'Lucas Oil Stadium', 'Indianapolis');\n",
    "INSERT INTO Locations (SID, Stadium, City) VALUES (13, 'EverBank Field', 'Jacksonville');\n",
    "INSERT INTO Locations (SID, Stadium, City) VALUES (14, 'Arrowhead Stadium', 'Kansas City');\n",
    "INSERT INTO Locations (SID, Stadium, City) VALUES (15, 'Los Angeles Memorial Coliseum', 'Los Angeles');\n",
    "INSERT INTO Locations (SID, Stadium, City) VALUES (16, 'U.S. Bank Stadium', 'Minneapolis');\n",
    "INSERT INTO Locations (SID, Stadium, City) VALUES (17, 'Gillette Stadium', 'Foxboro');\n",
    "INSERT INTO Locations (SID, Stadium, City) VALUES (18, 'Mercedes-Benz Superdome', 'New Orleans');\n",
    "INSERT INTO Locations (SID, Stadium, City) VALUES (19, 'MetLife Stadium', 'East Rutherford');\n",
    "INSERT INTO Locations (SID, Stadium, City) VALUES (20, 'Oakland Coliseum', 'Oakland');\n",
    "INSERT INTO Locations (SID, Stadium, City) VALUES (21, 'Lincoln Financial Field', 'Philadelpia');\n",
    "INSERT INTO Locations (SID, Stadium, City) VALUES (22, 'Heinz Field', 'Pittsburgh');\n",
    "INSERT INTO Locations (SID, Stadium, City) VALUES (23, 'SDCCU Stadium', 'San Diego');\n",
    "INSERT INTO Locations (SID, Stadium, City) VALUES (24, 'Levis Stadium', 'Santa Clara');\n",
    "INSERT INTO Locations (SID, Stadium, City) VALUES (25, 'CenturyLink Field', 'Seattle');\n",
    "INSERT INTO Locations (SID, Stadium, City) VALUES (26, 'Nissan Stadium', 'Nashville');\n",
    "INSERT INTO Locations (SID, Stadium, City) VALUES (27, 'FedEx Field', 'Landover');\n",
    "INSERT INTO Locations (SID, Stadium, City) VALUES (28, 'Hard Rock Stadium', 'Miami');\n",
    "INSERT INTO Locations (SID, Stadium, City) VALUES (29, 'Lambeau Field', 'Green Bay');\n",
    "INSERT INTO Locations (SID, Stadium, City) VALUES (30, 'Mercedes-Benz Stadium', 'Atlanta');\n",
    "INSERT INTO Locations (SID, Stadium, City) VALUES (31, 'Paul Brown Stadium', 'Cincinnati');\n",
    "INSERT INTO Locations (SID, Stadium, City) VALUES (32, 'Raymond James Stadium', 'Tampa');\n",
    "INSERT INTO Locations (SID, Stadium, City) VALUES (33, 'Stubhub Center', 'Carson');\n",
    "INSERT INTO Locations (SID, Stadium, City) VALUES (34, 'Camping Wood Stadium', 'Orlando');\n",
    "INSERT INTO Locations (SID, Stadium, City) VALUES (35, 'Estadio Azteca', 'Mexico City');\n",
    "INSERT INTO Locations (SID, Stadium, City) VALUES (36, 'Tom Benson Hall of Fame Stadium', 'Canton');\n",
    "INSERT INTO Locations (SID, Stadium, City) VALUES (37, 'Twickenham Stadium', 'London');\n",
    "INSERT INTO Locations (SID, Stadium, City) VALUES (38, 'Wembley Stadium', 'London');"
   ]
  },
  {
   "cell_type": "code",
   "execution_count": 11,
   "metadata": {},
   "outputs": [
    {
     "name": "stdout",
     "output_type": "stream",
     "text": [
      "1 rows affected.\n",
      "1 rows affected.\n",
      "1 rows affected.\n",
      "1 rows affected.\n",
      "1 rows affected.\n",
      "1 rows affected.\n",
      "1 rows affected.\n",
      "1 rows affected.\n",
      "1 rows affected.\n",
      "1 rows affected.\n",
      "1 rows affected.\n",
      "1 rows affected.\n",
      "1 rows affected.\n",
      "1 rows affected.\n",
      "1 rows affected.\n",
      "1 rows affected.\n",
      "1 rows affected.\n",
      "1 rows affected.\n",
      "1 rows affected.\n",
      "1 rows affected.\n",
      "1 rows affected.\n",
      "1 rows affected.\n",
      "1 rows affected.\n",
      "1 rows affected.\n",
      "1 rows affected.\n",
      "1 rows affected.\n",
      "1 rows affected.\n",
      "1 rows affected.\n",
      "1 rows affected.\n",
      "1 rows affected.\n",
      "1 rows affected.\n",
      "1 rows affected.\n",
      "1 rows affected.\n",
      "1 rows affected.\n",
      "1 rows affected.\n",
      "1 rows affected.\n",
      "1 rows affected.\n",
      "1 rows affected.\n",
      "1 rows affected.\n",
      "1 rows affected.\n",
      "1 rows affected.\n",
      "1 rows affected.\n",
      "1 rows affected.\n",
      "1 rows affected.\n",
      "1 rows affected.\n",
      "1 rows affected.\n",
      "1 rows affected.\n",
      "1 rows affected.\n",
      "1 rows affected.\n",
      "1 rows affected.\n",
      "1 rows affected.\n",
      "1 rows affected.\n",
      "1 rows affected.\n",
      "1 rows affected.\n",
      "1 rows affected.\n",
      "1 rows affected.\n",
      "1 rows affected.\n",
      "1 rows affected.\n",
      "1 rows affected.\n",
      "1 rows affected.\n",
      "1 rows affected.\n",
      "1 rows affected.\n",
      "1 rows affected.\n",
      "1 rows affected.\n",
      "1 rows affected.\n",
      "1 rows affected.\n",
      "1 rows affected.\n",
      "1 rows affected.\n",
      "1 rows affected.\n",
      "1 rows affected.\n",
      "1 rows affected.\n",
      "1 rows affected.\n",
      "1 rows affected.\n",
      "1 rows affected.\n",
      "1 rows affected.\n",
      "1 rows affected.\n",
      "1 rows affected.\n",
      "1 rows affected.\n",
      "1 rows affected.\n",
      "1 rows affected.\n",
      "1 rows affected.\n",
      "1 rows affected.\n",
      "1 rows affected.\n",
      "1 rows affected.\n",
      "1 rows affected.\n",
      "1 rows affected.\n",
      "1 rows affected.\n"
     ]
    },
    {
     "data": {
      "text/plain": [
       "[]"
      ]
     },
     "execution_count": 11,
     "metadata": {},
     "output_type": "execute_result"
    }
   ],
   "source": [
    "%%sql\n",
    "INSERT INTO QUARTERBACKS (QBID,QBName,College) Values (1,\"Brandon Allen\",\"Arkansas\");\n",
    "INSERT INTO QUARTERBACKS (QBID,QBName,College) Values (2,\"Derek Anderson\",\"Oregon State\");\n",
    "INSERT INTO QUARTERBACKS (QBID,QBName,College) Values (3,\"Matt Barkley\",\"USC\");\n",
    "INSERT INTO QUARTERBACKS (QBID,QBName,College) Values (4,\"C.J. Beathard\",\"Iowa\");\n",
    "INSERT INTO QUARTERBACKS (QBID,QBName,College) Values (5,\"Blake Bortles\",\"UCF\");\n",
    "INSERT INTO QUARTERBACKS (QBID,QBName,College) Values (6,\"Sam Bradford\",\"Oklahoma\");\n",
    "INSERT INTO QUARTERBACKS (QBID,QBName,College) Values (7,\"Tom Brady\",\"Michigan\");\n",
    "INSERT INTO QUARTERBACKS (QBID,QBName,College) Values (8,\"Tyler Bray\",\"Tennessee\");\n",
    "INSERT INTO QUARTERBACKS (QBID,QBName,College) Values (9,\"Drew Brees\",\"Purdue\");\n",
    "INSERT INTO QUARTERBACKS (QBID,QBName,College) Values (10,\"Teddy Bridgewater\",\"Louisville\");\n",
    "INSERT INTO QUARTERBACKS (QBID,QBName,College) Values (11,\"Jacoby Brissett\",\"NC State\");\n",
    "INSERT INTO QUARTERBACKS (QBID,QBName,College) Values (12,\"Joe Callahan\",\"Wesley College\");\n",
    "INSERT INTO QUARTERBACKS (QBID,QBName,College) Values (13,\"Derek Carr\",\"Fresno State\");\n",
    "INSERT INTO QUARTERBACKS (QBID,QBName,College) Values (14,\"Matt Cassel\",\"USC\");\n",
    "INSERT INTO QUARTERBACKS (QBID,QBName,College) Values (15,\"Kellen Clemens\",\"Oregon\");\n",
    "INSERT INTO QUARTERBACKS (QBID,QBName,College) Values (16,\"Connor Cook\",\"Michigan State\");\n",
    "INSERT INTO QUARTERBACKS (QBID,QBName,College) Values (17,\"Kirk Cousins\",\"Michigan State\");\n",
    "INSERT INTO QUARTERBACKS (QBID,QBName,College) Values (18,\"Jay Cutler\",\"Vanderbilt\");\n",
    "INSERT INTO QUARTERBACKS (QBID,QBName,College) Values (19,\"Andy Dalton\",\"TCU\");\n",
    "INSERT INTO QUARTERBACKS (QBID,QBName,College) Values (20,\"Chase Daniel\",\"Missouri\");\n",
    "INSERT INTO QUARTERBACKS (QBID,QBName,College) Values (21,\"Austin Davis\",\"Southern Mississippi\");\n",
    "INSERT INTO QUARTERBACKS (QBID,QBName,College) Values (22,\"Joshua Dobbs\",\"Tennessee\");\n",
    "INSERT INTO QUARTERBACKS (QBID,QBName,College) Values (23,\"Jeff Driskel\",\"Louisiana Tech\");\n",
    "INSERT INTO QUARTERBACKS (QBID,QBName,College) Values (24,\"David Fales\",\"San Jose State\");\n",
    "INSERT INTO QUARTERBACKS (QBID,QBName,College) Values (25,\"Ryan Fitzpatrick\",\"Harvard\");\n",
    "INSERT INTO QUARTERBACKS (QBID,QBName,College) Values (26,\"Joe Flacco\",\"Delaware\");\n",
    "INSERT INTO QUARTERBACKS (QBID,QBName,College) Values (27,\"Nick Foles\",\"Arizona\");\n",
    "INSERT INTO QUARTERBACKS (QBID,QBName,College) Values (28,\"Blaine Gabbert\",\"Missouri\");\n",
    "INSERT INTO QUARTERBACKS (QBID,QBName,College) Values (29,\"Jimmy Garoppolo\",\"Eastern Illinois\");\n",
    "INSERT INTO QUARTERBACKS (QBID,QBName,College) Values (30,\"Garrett Gilbert\",\"SMU\");\n",
    "INSERT INTO QUARTERBACKS (QBID,QBName,College) Values (31,\"Mike Glennon\",\"NC State\");\n",
    "INSERT INTO QUARTERBACKS (QBID,QBName,College) Values (32,\"Jared Goff\",\"California\");\n",
    "INSERT INTO QUARTERBACKS (QBID,QBName,College) Values (33,\"Ryan Griffin\",\"Tulane\");\n",
    "INSERT INTO QUARTERBACKS (QBID,QBName,College) Values (34,\"Christian Hackenberg\",\"Penn State\");\n",
    "INSERT INTO QUARTERBACKS (QBID,QBName,College) Values (35,\"Chad Henne\",\"Michigan\");\n",
    "INSERT INTO QUARTERBACKS (QBID,QBName,College) Values (36,\"Taysom Hill\",\"BYU\");\n",
    "INSERT INTO QUARTERBACKS (QBID,QBName,College) Values (37,\"Kevin Hogan\",\"Stanford\");\n",
    "INSERT INTO QUARTERBACKS (QBID,QBName,College) Values (38,\"Brian Hoyer\",\"Michigan State\");\n",
    "INSERT INTO QUARTERBACKS (QBID,QBName,College) Values (39,\"Brett Hundley\",\"UCLA\");\n",
    "INSERT INTO QUARTERBACKS (QBID,QBName,College) Values (40,\"Case Keenum\",\"Houston\");\n",
    "INSERT INTO QUARTERBACKS (QBID,QBName,College) Values (41,\"Cody Kessler\",\"USC\");\n",
    "INSERT INTO QUARTERBACKS (QBID,QBName,College) Values (42,\"Paxton Lynch\",\"Memphis\");\n",
    "INSERT INTO QUARTERBACKS (QBID,QBName,College) Values (43,\"Patrick Mahomes\",\"Texas Tech\");\n",
    "INSERT INTO QUARTERBACKS (QBID,QBName,College) Values (44,\"Ryan Mallett\",\"Arkansas\");\n",
    "INSERT INTO QUARTERBACKS (QBID,QBName,College) Values (45,\"EJ Manuel\",\"Florida State\");\n",
    "INSERT INTO QUARTERBACKS (QBID,QBName,College) Values (46,\"Marcus Mariota\",\"Oregon\");\n",
    "INSERT INTO QUARTERBACKS (QBID,QBName,College) Values (47,\"Colt McCoy\",\"Texas\");\n",
    "INSERT INTO QUARTERBACKS (QBID,QBName,College) Values (48,\"Matt Moore\",\"Oregon State\");\n",
    "INSERT INTO QUARTERBACKS (QBID,QBName,College) Values (49,\"Cam Newton\",\"Auburn\");\n",
    "INSERT INTO QUARTERBACKS (QBID,QBName,College) Values (50,\"Brock Osweiler\",\"Arizona State\");\n",
    "INSERT INTO QUARTERBACKS (QBID,QBName,College) Values (51,\"Carson Palmer\",\"USC\");\n",
    "INSERT INTO QUARTERBACKS (QBID,QBName,College) Values (52,\"Nathan Peterman\",\"Pittsburgh\");\n",
    "INSERT INTO QUARTERBACKS (QBID,QBName,College) Values (53,\"Bryce Petty\",\"Baylor\");\n",
    "INSERT INTO QUARTERBACKS (QBID,QBName,College) Values (54,\"Dak Prescott\",\"Mississippi State\");\n",
    "INSERT INTO QUARTERBACKS (QBID,QBName,College) Values (55,\"Philip Rivers\",\"NC State\");\n",
    "INSERT INTO QUARTERBACKS (QBID,QBName,College) Values (56,\"Aaron Rodgers\",\"California\");\n",
    "INSERT INTO QUARTERBACKS (QBID,QBName,College) Values (57,\"Ben Roethlisberger\",\"Miami (OH)\");\n",
    "INSERT INTO QUARTERBACKS (QBID,QBName,College) Values (58,\"Jake Rudock\",\"Michigan\");\n",
    "INSERT INTO QUARTERBACKS (QBID,QBName,College) Values (59,\"Cooper Rush\",\"Central Michigan\");\n",
    "INSERT INTO QUARTERBACKS (QBID,QBName,College) Values (60,\"Matt Ryan\",\"Boston College\");\n",
    "INSERT INTO QUARTERBACKS (QBID,QBName,College) Values (61,\"Mark Sanchez\",\"USC\");\n",
    "INSERT INTO QUARTERBACKS (QBID,QBName,College) Values (62,\"Tom Savage\",\"Pittsburgh\");\n",
    "INSERT INTO QUARTERBACKS (QBID,QBName,College) Values (63,\"Matt Schaub\",\"Virginia\");\n",
    "INSERT INTO QUARTERBACKS (QBID,QBName,College) Values (64,\"Trevor Siemian\",\"Northwestern\");\n",
    "INSERT INTO QUARTERBACKS (QBID,QBName,College) Values (65,\"Kyle Sloter\",\"Northern Colorado\");\n",
    "INSERT INTO QUARTERBACKS (QBID,QBName,College) Values (66,\"Alex Smith\",\"Utah\");\n",
    "INSERT INTO QUARTERBACKS (QBID,QBName,College) Values (67,\"Geno Smith\",\"West Virginia\");\n",
    "INSERT INTO QUARTERBACKS (QBID,QBName,College) Values (68,\"Matthew Stafford\",\"Georgia\");\n",
    "INSERT INTO QUARTERBACKS (QBID,QBName,College) Values (69,\"Drew Stanton\",\"Michigan State\");\n",
    "INSERT INTO QUARTERBACKS (QBID,QBName,College) Values (70,\"Nate Sudfeld\",\"Indiana\");\n",
    "INSERT INTO QUARTERBACKS (QBID,QBName,College) Values (71,\"Ryan Tannehill\",\"Texas A&M\");\n",
    "INSERT INTO QUARTERBACKS (QBID,QBName,College) Values (72,\"Alex Tanney\",\"Monmouth (IL)\");\n",
    "INSERT INTO QUARTERBACKS (QBID,QBName,College) Values (73,\"Tyrod Taylor\",\"Virginia Tech\");\n",
    "INSERT INTO QUARTERBACKS (QBID,QBName,College) Values (74,\"Scott Tolzien\",\"Wisconsin\");\n",
    "INSERT INTO QUARTERBACKS (QBID,QBName,College) Values (75,\"Mitchell Trubisky\",\"North Carolina\");\n",
    "INSERT INTO QUARTERBACKS (QBID,QBName,College) Values (76,\"Deshaun Watson\",\"Clemson\");\n",
    "INSERT INTO QUARTERBACKS (QBID,QBName,College) Values (77,\"Davis Webb\",\"California\");\n",
    "INSERT INTO QUARTERBACKS (QBID,QBName,College) Values (78,\"Joe Webb\",\"UAB\");\n",
    "INSERT INTO QUARTERBACKS (QBID,QBName,College) Values (79,\"Brandon Weeden\",\"Oklahoma State\");\n",
    "INSERT INTO QUARTERBACKS (QBID,QBName,College) Values (80,\"Carson Wentz\",\"North Dakota State\");\n",
    "INSERT INTO QUARTERBACKS (QBID,QBName,College) Values (81,\"Russell Wilson\",\"Wisconsin\");\n",
    "INSERT INTO QUARTERBACKS (QBID,QBName,College) Values (82,\"Jameis Winston\",\"Florida State\");\n",
    "INSERT INTO QUARTERBACKS (QBID,QBName,College) Values (83,\" T.J. Yates\",\"North Carolina\");\n",
    "INSERT INTO QUARTERBACKS (QBID,QBName,College) Values (84,\"Shaun Hill\",\"Maryland\");\n",
    "INSERT INTO QUARTERBACKS (QBID,QBName,College) Values (85,\"Robert Griffin\",\"Baylor\");\n",
    "INSERT INTO QUARTERBACKS (QBID,QBName,College) Values (86,\"Eli Manning\",\"Ole Miss\");\n",
    "INSERT INTO QUARTERBACKS (QBID,QBName,College) Values (87,\"Andrew Luck\",\"Stanford\");"
   ]
  },
  {
   "cell_type": "code",
   "execution_count": 12,
   "metadata": {},
   "outputs": [
    {
     "name": "stdout",
     "output_type": "stream",
     "text": [
      "1 rows affected.\n",
      "1 rows affected.\n",
      "1 rows affected.\n",
      "1 rows affected.\n",
      "1 rows affected.\n",
      "1 rows affected.\n",
      "1 rows affected.\n",
      "1 rows affected.\n",
      "1 rows affected.\n",
      "1 rows affected.\n",
      "1 rows affected.\n",
      "1 rows affected.\n",
      "1 rows affected.\n",
      "1 rows affected.\n",
      "1 rows affected.\n",
      "1 rows affected.\n"
     ]
    },
    {
     "data": {
      "text/plain": [
       "[]"
      ]
     },
     "execution_count": 12,
     "metadata": {},
     "output_type": "execute_result"
    }
   ],
   "source": [
    "%%sql\n",
    "INSERT INTO GAMES (GameID,HTeamID,ATeamID,SID,Attendence) Values (1,25,22,9,76843);\n",
    "INSERT INTO GAMES (GameID,HTeamID,ATeamID,SID,Attendence) Values (2,21,24,2,69382);\n",
    "INSERT INTO GAMES (GameID,HTeamID,ATeamID,SID,Attendence) Values (3,4,10,19,78160);\n",
    "INSERT INTO GAMES (GameID,HTeamID,ATeamID,SID,Attendence) Values (4,23,28,18,73028);\n",
    "INSERT INTO GAMES (GameID,HTeamID,ATeamID,SID,Attendence) Values (5,26,27,14,73238);\n",
    "INSERT INTO GAMES (GameID,HTeamID,ATeamID,SID,Attendence) Values (6,20,16,26,63816);\n",
    "INSERT INTO GAMES (GameID,HTeamID,ATeamID,SID,Attendence) Values (7,7,11,21,69596);\n",
    "INSERT INTO GAMES (GameID,HTeamID,ATeamID,SID,Attendence) Values (8,19,15,13,63179);\n",
    "INSERT INTO GAMES (GameID,HTeamID,ATeamID,SID,Attendence) Values (9,9,1,3,71104);\n",
    "INSERT INTO GAMES (GameID,HTeamID,ATeamID,SID,Attendence) Values (10,17,13,11,71933);\n",
    "INSERT INTO GAMES (GameID,HTeamID,ATeamID,SID,Attendence) Values (11,32,2,25,69012);\n",
    "INSERT INTO GAMES (GameID,HTeamID,ATeamID,SID,Attendence) Values (12,5,6,8,92867);\n",
    "INSERT INTO GAMES (GameID,HTeamID,ATeamID,SID,Attendence) Values (13,18,14,12,65566);\n",
    "INSERT INTO GAMES (GameID,HTeamID,ATeamID,SID,Attendence) Values (14,29,3,1,64865);\n",
    "INSERT INTO GAMES (GameID,HTeamID,ATeamID,SID,Attendence) Values (15,8,12,27,79124);\n",
    "INSERT INTO GAMES (GameID,HTeamID,ATeamID,SID,Attendence) Values (16,31,30,24,70178);"
   ]
  },
  {
   "cell_type": "code",
   "execution_count": 13,
   "metadata": {},
   "outputs": [
    {
     "name": "stdout",
     "output_type": "stream",
     "text": [
      "1 rows affected.\n",
      "1 rows affected.\n",
      "1 rows affected.\n",
      "1 rows affected.\n",
      "1 rows affected.\n",
      "1 rows affected.\n",
      "1 rows affected.\n",
      "1 rows affected.\n",
      "1 rows affected.\n",
      "1 rows affected.\n",
      "1 rows affected.\n",
      "1 rows affected.\n",
      "1 rows affected.\n",
      "1 rows affected.\n",
      "1 rows affected.\n",
      "1 rows affected.\n",
      "1 rows affected.\n",
      "1 rows affected.\n",
      "1 rows affected.\n",
      "1 rows affected.\n",
      "1 rows affected.\n",
      "1 rows affected.\n",
      "1 rows affected.\n",
      "1 rows affected.\n",
      "1 rows affected.\n",
      "1 rows affected.\n",
      "1 rows affected.\n",
      "1 rows affected.\n",
      "1 rows affected.\n",
      "1 rows affected.\n",
      "1 rows affected.\n",
      "1 rows affected.\n"
     ]
    },
    {
     "data": {
      "text/plain": [
       "[]"
      ]
     },
     "execution_count": 13,
     "metadata": {},
     "output_type": "execute_result"
    }
   ],
   "source": [
    "%%sql\n",
    "INSERT INTO GAMESTATISTICS (GameID,TeamID,QBID,SCORE,Total_Yards,Turn_Overs,First_Downs) Values (1,25,64,21,307,3,21);\n",
    "INSERT INTO GAMESTATISTICS (GameID,TeamID,QBID,SCORE,Total_Yards,Turn_Overs,First_Downs) Values (1,22,49,20,333,1,21);\n",
    "INSERT INTO GAMESTATISTICS (GameID,TeamID,QBID,SCORE,Total_Yards,Turn_Overs,First_Downs) Values (2,21,60,24,374,0,19);\n",
    "INSERT INTO GAMESTATISTICS (GameID,TeamID,QBID,SCORE,Total_Yards,Turn_Overs,First_Downs) Values (2,24,82,31,371,1,20);\n",
    "INSERT INTO GAMESTATISTICS (GameID,TeamID,QBID,SCORE,Total_Yards,Turn_Overs,First_Downs) Values (3,4,22,31,340,1,22);\n",
    "INSERT INTO GAMESTATISTICS (GameID,TeamID,QBID,SCORE,Total_Yards,Turn_Overs,First_Downs) Values (3,10,23,31,381,1,18);\n",
    "INSERT INTO GAMESTATISTICS (GameID,TeamID,QBID,SCORE,Total_Yards,Turn_Overs,First_Downs) Values (4,23,9,34,507,1,27);\n",
    "INSERT INTO GAMESTATISTICS (GameID,TeamID,QBID,SCORE,Total_Yards,Turn_Overs,First_Downs) Values (4,28,13,35,486,0,25);\n",
    "INSERT INTO GAMESTATISTICS (GameID,TeamID,QBID,SCORE,Total_Yards,Turn_Overs,First_Downs) Values (5,26,66,33,413,1,26);\n",
    "INSERT INTO GAMESTATISTICS (GameID,TeamID,QBID,SCORE,Total_Yards,Turn_Overs,First_Downs) Values (5,27,55,27,388,0,25);\n",
    "INSERT INTO GAMESTATISTICS (GameID,TeamID,QBID,SCORE,Total_Yards,Turn_Overs,First_Downs) Values (6,20,46,16,316,3,19);\n",
    "INSERT INTO GAMESTATISTICS (GameID,TeamID,QBID,SCORE,Total_Yards,Turn_Overs,First_Downs) Values (6,16,84,25,301,0,15);\n",
    "INSERT INTO GAMESTATISTICS (GameID,TeamID,QBID,SCORE,Total_Yards,Turn_Overs,First_Downs) Values (7,7,80,29,403,0,23);\n",
    "INSERT INTO GAMESTATISTICS (GameID,TeamID,QBID,SCORE,Total_Yards,Turn_Overs,First_Downs) Values (7,11,85,10,288,1,14);\n",
    "INSERT INTO GAMESTATISTICS (GameID,TeamID,QBID,SCORE,Total_Yards,Turn_Overs,First_Downs) Values (8,19,5,23,348,1,18);\n",
    "INSERT INTO GAMESTATISTICS (GameID,TeamID,QBID,SCORE,Total_Yards,Turn_Overs,First_Downs) Values (8,15,56,27,294,0,20);\n",
    "INSERT INTO GAMESTATISTICS (GameID,TeamID,QBID,SCORE,Total_Yards,Turn_Overs,First_Downs) Values (9,9,26,13,308,1,18);\n",
    "INSERT INTO GAMESTATISTICS (GameID,TeamID,QBID,SCORE,Total_Yards,Turn_Overs,First_Downs) Values (9,1,73,7,160,0,11);\n",
    "INSERT INTO GAMESTATISTICS (GameID,TeamID,QBID,SCORE,Total_Yards,Turn_Overs,First_Downs) Values (10,17,50,23,344,1,17);\n",
    "INSERT INTO GAMESTATISTICS (GameID,TeamID,QBID,SCORE,Total_Yards,Turn_Overs,First_Downs) Values (10,13,18,14,258,1,14);\n",
    "INSERT INTO GAMESTATISTICS (GameID,TeamID,QBID,SCORE,Total_Yards,Turn_Overs,First_Downs) Values (11,32,81,12,352,2,21);\n",
    "INSERT INTO GAMESTATISTICS (GameID,TeamID,QBID,SCORE,Total_Yards,Turn_Overs,First_Downs) Values (11,2,71,10,214,0,11);\n",
    "INSERT INTO GAMESTATISTICS (GameID,TeamID,QBID,SCORE,Total_Yards,Turn_Overs,First_Downs) Values (12,5,54,19,328,0,24);\n",
    "INSERT INTO GAMESTATISTICS (GameID,TeamID,QBID,SCORE,Total_Yards,Turn_Overs,First_Downs) Values (12,6,86,20,316,1,18);\n",
    "INSERT INTO GAMESTATISTICS (GameID,TeamID,QBID,SCORE,Total_Yards,Turn_Overs,First_Downs) Values (13,18,87,35,450,0,25);\n",
    "INSERT INTO GAMESTATISTICS (GameID,TeamID,QBID,SCORE,Total_Yards,Turn_Overs,First_Downs) Values (13,14,68,39,448,0,28);\n",
    "INSERT INTO GAMESTATISTICS (GameID,TeamID,QBID,SCORE,Total_Yards,Turn_Overs,First_Downs) Values (14,29,51,21,344,0,21);\n",
    "INSERT INTO GAMESTATISTICS (GameID,TeamID,QBID,SCORE,Total_Yards,Turn_Overs,First_Downs) Values (14,3,29,23,363,2,19);\n",
    "INSERT INTO GAMESTATISTICS (GameID,TeamID,QBID,SCORE,Total_Yards,Turn_Overs,First_Downs) Values (15,8,17,16,385,2,18);\n",
    "INSERT INTO GAMESTATISTICS (GameID,TeamID,QBID,SCORE,Total_Yards,Turn_Overs,First_Downs) Values (15,12,57,38,437,1,23);\n",
    "INSERT INTO GAMESTATISTICS (GameID,TeamID,QBID,SCORE,Total_Yards,Turn_Overs,First_Downs) Values (16,31,28,28,320,1,10);\n",
    "INSERT INTO GAMESTATISTICS (GameID,TeamID,QBID,SCORE,Total_Yards,Turn_Overs,First_Downs) Values (16,30,40,0,185,2,28);"
   ]
  },
  {
   "cell_type": "code",
   "execution_count": 14,
   "metadata": {},
   "outputs": [
    {
     "name": "stdout",
     "output_type": "stream",
     "text": [
      "Done.\n",
      "Done.\n",
      "Done.\n",
      "Done.\n",
      "Done.\n"
     ]
    },
    {
     "data": {
      "text/html": [
       "<table>\n",
       "    <tr>\n",
       "        <th>cid</th>\n",
       "        <th>name</th>\n",
       "        <th>type</th>\n",
       "        <th>notnull</th>\n",
       "        <th>dflt_value</th>\n",
       "        <th>pk</th>\n",
       "    </tr>\n",
       "    <tr>\n",
       "        <td>0</td>\n",
       "        <td>GameID</td>\n",
       "        <td>INTEGER</td>\n",
       "        <td>0</td>\n",
       "        <td>NULL</td>\n",
       "        <td>0</td>\n",
       "    </tr>\n",
       "    <tr>\n",
       "        <td>1</td>\n",
       "        <td>TeamID</td>\n",
       "        <td>INTEGER</td>\n",
       "        <td>0</td>\n",
       "        <td>NULL</td>\n",
       "        <td>0</td>\n",
       "    </tr>\n",
       "    <tr>\n",
       "        <td>2</td>\n",
       "        <td>QBID</td>\n",
       "        <td>INTEGER</td>\n",
       "        <td>0</td>\n",
       "        <td>NULL</td>\n",
       "        <td>0</td>\n",
       "    </tr>\n",
       "    <tr>\n",
       "        <td>3</td>\n",
       "        <td>Score</td>\n",
       "        <td>INTEGER</td>\n",
       "        <td>0</td>\n",
       "        <td>NULL</td>\n",
       "        <td>0</td>\n",
       "    </tr>\n",
       "    <tr>\n",
       "        <td>4</td>\n",
       "        <td>Total_Yards</td>\n",
       "        <td>INTEGER</td>\n",
       "        <td>0</td>\n",
       "        <td>NULL</td>\n",
       "        <td>0</td>\n",
       "    </tr>\n",
       "    <tr>\n",
       "        <td>5</td>\n",
       "        <td>Turn_Overs</td>\n",
       "        <td>INTEGER</td>\n",
       "        <td>0</td>\n",
       "        <td>NULL</td>\n",
       "        <td>0</td>\n",
       "    </tr>\n",
       "    <tr>\n",
       "        <td>6</td>\n",
       "        <td>First_Downs</td>\n",
       "        <td>INTEGER</td>\n",
       "        <td>0</td>\n",
       "        <td>NULL</td>\n",
       "        <td>0</td>\n",
       "    </tr>\n",
       "</table>"
      ],
      "text/plain": [
       "[(0, 'GameID', 'INTEGER', 0, 'NULL', 0),\n",
       " (1, 'TeamID', 'INTEGER', 0, 'NULL', 0),\n",
       " (2, 'QBID', 'INTEGER', 0, 'NULL', 0),\n",
       " (3, 'Score', 'INTEGER', 0, 'NULL', 0),\n",
       " (4, 'Total_Yards', 'INTEGER', 0, 'NULL', 0),\n",
       " (5, 'Turn_Overs', 'INTEGER', 0, 'NULL', 0),\n",
       " (6, 'First_Downs', 'INTEGER', 0, 'NULL', 0)]"
      ]
     },
     "execution_count": 14,
     "metadata": {},
     "output_type": "execute_result"
    }
   ],
   "source": [
    "%%sql\n",
    "pragma table_info('Teams');\n",
    "pragma table_info('Quarterbacks');\n",
    "pragma table_info('Locations');\n",
    "pragma table_info('Games');\n",
    "pragma table_info('GameStatistics');"
   ]
  },
  {
   "cell_type": "code",
   "execution_count": 15,
   "metadata": {},
   "outputs": [
    {
     "name": "stdout",
     "output_type": "stream",
     "text": [
      "Done.\n"
     ]
    },
    {
     "data": {
      "text/html": [
       "<table>\n",
       "    <tr>\n",
       "        <th>cid</th>\n",
       "        <th>name</th>\n",
       "        <th>type</th>\n",
       "        <th>notnull</th>\n",
       "        <th>dflt_value</th>\n",
       "        <th>pk</th>\n",
       "    </tr>\n",
       "    <tr>\n",
       "        <td>0</td>\n",
       "        <td>TID</td>\n",
       "        <td>INTEGER</td>\n",
       "        <td>0</td>\n",
       "        <td>None</td>\n",
       "        <td>1</td>\n",
       "    </tr>\n",
       "    <tr>\n",
       "        <td>1</td>\n",
       "        <td>TeamName</td>\n",
       "        <td>TEXT</td>\n",
       "        <td>0</td>\n",
       "        <td>NULL</td>\n",
       "        <td>0</td>\n",
       "    </tr>\n",
       "    <tr>\n",
       "        <td>2</td>\n",
       "        <td>Conference</td>\n",
       "        <td>TEXT</td>\n",
       "        <td>0</td>\n",
       "        <td>NULL</td>\n",
       "        <td>0</td>\n",
       "    </tr>\n",
       "    <tr>\n",
       "        <td>3</td>\n",
       "        <td>Division</td>\n",
       "        <td>TEXT</td>\n",
       "        <td>0</td>\n",
       "        <td>NULL</td>\n",
       "        <td>0</td>\n",
       "    </tr>\n",
       "</table>"
      ],
      "text/plain": [
       "[(0, 'TID', 'INTEGER', 0, None, 1),\n",
       " (1, 'TeamName', 'TEXT', 0, 'NULL', 0),\n",
       " (2, 'Conference', 'TEXT', 0, 'NULL', 0),\n",
       " (3, 'Division', 'TEXT', 0, 'NULL', 0)]"
      ]
     },
     "execution_count": 15,
     "metadata": {},
     "output_type": "execute_result"
    }
   ],
   "source": [
    "%%sql\n",
    "pragma table_info('Teams');"
   ]
  },
  {
   "cell_type": "code",
   "execution_count": 16,
   "metadata": {},
   "outputs": [
    {
     "name": "stdout",
     "output_type": "stream",
     "text": [
      "Done.\n"
     ]
    },
    {
     "data": {
      "text/html": [
       "<table>\n",
       "    <tr>\n",
       "        <th>cid</th>\n",
       "        <th>name</th>\n",
       "        <th>type</th>\n",
       "        <th>notnull</th>\n",
       "        <th>dflt_value</th>\n",
       "        <th>pk</th>\n",
       "    </tr>\n",
       "    <tr>\n",
       "        <td>0</td>\n",
       "        <td>QBID</td>\n",
       "        <td>INTEGER</td>\n",
       "        <td>0</td>\n",
       "        <td>None</td>\n",
       "        <td>1</td>\n",
       "    </tr>\n",
       "    <tr>\n",
       "        <td>1</td>\n",
       "        <td>QBName</td>\n",
       "        <td>TEXT</td>\n",
       "        <td>0</td>\n",
       "        <td>NULL</td>\n",
       "        <td>0</td>\n",
       "    </tr>\n",
       "    <tr>\n",
       "        <td>2</td>\n",
       "        <td>College</td>\n",
       "        <td>TEXT</td>\n",
       "        <td>0</td>\n",
       "        <td>NULL</td>\n",
       "        <td>0</td>\n",
       "    </tr>\n",
       "</table>"
      ],
      "text/plain": [
       "[(0, 'QBID', 'INTEGER', 0, None, 1),\n",
       " (1, 'QBName', 'TEXT', 0, 'NULL', 0),\n",
       " (2, 'College', 'TEXT', 0, 'NULL', 0)]"
      ]
     },
     "execution_count": 16,
     "metadata": {},
     "output_type": "execute_result"
    }
   ],
   "source": [
    "%%sql\n",
    "pragma table_info('Quarterbacks');"
   ]
  },
  {
   "cell_type": "code",
   "execution_count": 17,
   "metadata": {},
   "outputs": [
    {
     "name": "stdout",
     "output_type": "stream",
     "text": [
      "Done.\n"
     ]
    },
    {
     "data": {
      "text/html": [
       "<table>\n",
       "    <tr>\n",
       "        <th>cid</th>\n",
       "        <th>name</th>\n",
       "        <th>type</th>\n",
       "        <th>notnull</th>\n",
       "        <th>dflt_value</th>\n",
       "        <th>pk</th>\n",
       "    </tr>\n",
       "    <tr>\n",
       "        <td>0</td>\n",
       "        <td>SID</td>\n",
       "        <td>INTEGER</td>\n",
       "        <td>0</td>\n",
       "        <td>None</td>\n",
       "        <td>1</td>\n",
       "    </tr>\n",
       "    <tr>\n",
       "        <td>1</td>\n",
       "        <td>Stadium</td>\n",
       "        <td>TEXT</td>\n",
       "        <td>0</td>\n",
       "        <td>NULL</td>\n",
       "        <td>0</td>\n",
       "    </tr>\n",
       "    <tr>\n",
       "        <td>2</td>\n",
       "        <td>City</td>\n",
       "        <td>TEXT</td>\n",
       "        <td>0</td>\n",
       "        <td>NULL</td>\n",
       "        <td>0</td>\n",
       "    </tr>\n",
       "</table>"
      ],
      "text/plain": [
       "[(0, 'SID', 'INTEGER', 0, None, 1),\n",
       " (1, 'Stadium', 'TEXT', 0, 'NULL', 0),\n",
       " (2, 'City', 'TEXT', 0, 'NULL', 0)]"
      ]
     },
     "execution_count": 17,
     "metadata": {},
     "output_type": "execute_result"
    }
   ],
   "source": [
    "%%sql\n",
    "pragma table_info('Locations');"
   ]
  },
  {
   "cell_type": "code",
   "execution_count": 18,
   "metadata": {},
   "outputs": [
    {
     "name": "stdout",
     "output_type": "stream",
     "text": [
      "Done.\n"
     ]
    },
    {
     "data": {
      "text/html": [
       "<table>\n",
       "    <tr>\n",
       "        <th>cid</th>\n",
       "        <th>name</th>\n",
       "        <th>type</th>\n",
       "        <th>notnull</th>\n",
       "        <th>dflt_value</th>\n",
       "        <th>pk</th>\n",
       "    </tr>\n",
       "    <tr>\n",
       "        <td>0</td>\n",
       "        <td>GameID</td>\n",
       "        <td>INTEGER</td>\n",
       "        <td>0</td>\n",
       "        <td>None</td>\n",
       "        <td>1</td>\n",
       "    </tr>\n",
       "    <tr>\n",
       "        <td>1</td>\n",
       "        <td>HTeamID</td>\n",
       "        <td>INTEGER</td>\n",
       "        <td>0</td>\n",
       "        <td>NULL</td>\n",
       "        <td>0</td>\n",
       "    </tr>\n",
       "    <tr>\n",
       "        <td>2</td>\n",
       "        <td>ATeamID</td>\n",
       "        <td>INTEGER</td>\n",
       "        <td>0</td>\n",
       "        <td>NULL</td>\n",
       "        <td>0</td>\n",
       "    </tr>\n",
       "    <tr>\n",
       "        <td>3</td>\n",
       "        <td>SID</td>\n",
       "        <td>INTEGER</td>\n",
       "        <td>0</td>\n",
       "        <td>NULL</td>\n",
       "        <td>0</td>\n",
       "    </tr>\n",
       "    <tr>\n",
       "        <td>4</td>\n",
       "        <td>Attendence</td>\n",
       "        <td>INTEGER</td>\n",
       "        <td>0</td>\n",
       "        <td>NULL</td>\n",
       "        <td>0</td>\n",
       "    </tr>\n",
       "</table>"
      ],
      "text/plain": [
       "[(0, 'GameID', 'INTEGER', 0, None, 1),\n",
       " (1, 'HTeamID', 'INTEGER', 0, 'NULL', 0),\n",
       " (2, 'ATeamID', 'INTEGER', 0, 'NULL', 0),\n",
       " (3, 'SID', 'INTEGER', 0, 'NULL', 0),\n",
       " (4, 'Attendence', 'INTEGER', 0, 'NULL', 0)]"
      ]
     },
     "execution_count": 18,
     "metadata": {},
     "output_type": "execute_result"
    }
   ],
   "source": [
    "%%sql\n",
    "pragma table_info('Games');"
   ]
  },
  {
   "cell_type": "code",
   "execution_count": null,
   "metadata": {
    "collapsed": true
   },
   "outputs": [],
   "source": []
  }
 ],
 "metadata": {
  "kernelspec": {
   "display_name": "Python 3",
   "language": "python",
   "name": "python3"
  },
  "language_info": {
   "codemirror_mode": {
    "name": "ipython",
    "version": 3
   },
   "file_extension": ".py",
   "mimetype": "text/x-python",
   "name": "python",
   "nbconvert_exporter": "python",
   "pygments_lexer": "ipython3",
   "version": "3.6.1"
  }
 },
 "nbformat": 4,
 "nbformat_minor": 2
}
