{
 "cells": [
  {
   "cell_type": "code",
   "execution_count": 1,
   "metadata": {
    "collapsed": true
   },
   "outputs": [],
   "source": [
    "import sqlite3\n",
    "import pandas as pd\n",
    "import sqlalchemy \n",
    "%load_ext sql"
   ]
  },
  {
   "cell_type": "markdown",
   "metadata": {},
   "source": [
    "Creating and loading our Database"
   ]
  },
  {
   "cell_type": "code",
   "execution_count": 2,
   "metadata": {},
   "outputs": [
    {
     "data": {
      "text/plain": [
       "'Connected: None@football.db'"
      ]
     },
     "execution_count": 2,
     "metadata": {},
     "output_type": "execute_result"
    }
   ],
   "source": [
    "%sql sqlite:///football.db"
   ]
  },
  {
   "cell_type": "markdown",
   "metadata": {},
   "source": [
    "Dropping tables from the database so we can re run code"
   ]
  },
  {
   "cell_type": "code",
   "execution_count": null,
   "metadata": {
    "collapsed": true
   },
   "outputs": [],
   "source": [
    "%%sql\n",
    "drop table Teams;\n",
    "drop table Quarterbacks;\n",
    "drop table Locations;\n",
    "drop table Games;\n",
    "drop table GameStatistics;"
   ]
  },
  {
   "cell_type": "markdown",
   "metadata": {},
   "source": [
    "Creating the first table for team data. Contains surrogate key, team name, conference and divison"
   ]
  },
  {
   "cell_type": "code",
   "execution_count": null,
   "metadata": {
    "collapsed": true
   },
   "outputs": [],
   "source": [
    "%%sql \n",
    "\n",
    "CREATE TABLE Teams (\n",
    "    TID INTEGER PRIMARY KEY,\n",
    "    TeamName TEXT default NULL,\n",
    "    Conference TEXT default NULL,\n",
    "    Division TEXT default NULL\n",
    ");"
   ]
  },
  {
   "cell_type": "markdown",
   "metadata": {},
   "source": [
    "Creating new table - QuarterBacks. Consists of information regarding the home team quarterback, such as name and college along with surrogate key \"QBID\""
   ]
  },
  {
   "cell_type": "code",
   "execution_count": null,
   "metadata": {
    "collapsed": true
   },
   "outputs": [],
   "source": [
    "%%sql \n",
    "\n",
    "CREATE TABLE QuarterBacks (\n",
    "    QBID INTEGER PRIMARY KEY,\n",
    "    QBName TEXT default NULL,\n",
    "    College TEXT DEFAULT NULL\n",
    "   \n",
    ");"
   ]
  },
  {
   "cell_type": "markdown",
   "metadata": {},
   "source": [
    "Creating a table about location for the games - Locations\n",
    "Contains information about stadium, city, surrogate key SID "
   ]
  },
  {
   "cell_type": "code",
   "execution_count": null,
   "metadata": {
    "collapsed": true
   },
   "outputs": [],
   "source": [
    "%%sql \n",
    "CREATE TABLE Locations (\n",
    "    SID INTEGER PRIMARY KEY,\n",
    "    Stadium TEXT default NULL,\n",
    "    City TEXT default NULL\n",
    "    \n",
    ");"
   ]
  },
  {
   "cell_type": "markdown",
   "metadata": {},
   "source": [
    "Creating first weak table, Games. Contains the gameID (PK), home team, away team, stadiumID foreign keys and an attendence column"
   ]
  },
  {
   "cell_type": "code",
   "execution_count": null,
   "metadata": {
    "collapsed": true
   },
   "outputs": [],
   "source": [
    "%%sql \n",
    "CREATE TABLE Games (\n",
    "    GameID INTEGER Primary Key,\n",
    "    HTeamID INTEGER default NULL,\n",
    "    ATeamID INTEGER default NULL,\n",
    "    SID INTEGER default NULL,\n",
    "    Attendence INTEGER default NULL,\n",
    "    FOREIGN KEY (HTeamID) REFERENCES Teams (TID),\n",
    "    FOREIGN KEY (ATeamID) REFERENCES Teams (TID),\n",
    "    FOREIGN KEY (SID) REFERENCES Locations (SID)\n",
    ");"
   ]
  },
  {
   "cell_type": "markdown",
   "metadata": {},
   "source": [
    "Creating final table (secondary weak). Contains FK gameid, teamid and qbID along with stats on the games"
   ]
  },
  {
   "cell_type": "code",
   "execution_count": null,
   "metadata": {
    "collapsed": true
   },
   "outputs": [],
   "source": [
    "%%sql \n",
    "CREATE TABLE GameStatistics (\n",
    "    GameID INTEGER default NULL,\n",
    "    TeamID INTEGER default NULL,\n",
    "    QBID INTEGER default NULL,\n",
    "    Score INTEGER default NULL,\n",
    "    Total_Yards INTEGER default NULL,\n",
    "    Turn_Overs INTEGER default NULL,\n",
    "    First_Downs INTEGER default NULL,\n",
    "    FOREIGN KEY (GameID) REFERENCES Games (GameID)\n",
    "    FOREIGN KEY (TeamID) REFERENCES Teams (TID),\n",
    "    FOREIGN KEY (QBID) REFERENCES QUARTERBACKS (QBID)\n",
    ");  "
   ]
  }
 ],
 "metadata": {
  "kernelspec": {
   "display_name": "Python 3",
   "language": "python",
   "name": "python3"
  },
  "language_info": {
   "codemirror_mode": {
    "name": "ipython",
    "version": 3
   },
   "file_extension": ".py",
   "mimetype": "text/x-python",
   "name": "python",
   "nbconvert_exporter": "python",
   "pygments_lexer": "ipython3",
   "version": "3.6.1"
  }
 },
 "nbformat": 4,
 "nbformat_minor": 2
}
